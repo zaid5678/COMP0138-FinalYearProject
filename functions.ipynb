{
 "cells": [
  {
   "cell_type": "code",
   "execution_count": 1,
   "metadata": {},
   "outputs": [
    {
     "name": "stderr",
     "output_type": "stream",
     "text": [
      "c:\\Users\\zfkha\\miniconda3\\Lib\\site-packages\\tqdm\\auto.py:21: TqdmWarning: IProgress not found. Please update jupyter and ipywidgets. See https://ipywidgets.readthedocs.io/en/stable/user_install.html\n",
      "  from .autonotebook import tqdm as notebook_tqdm\n"
     ]
    },
    {
     "name": "stdout",
     "output_type": "stream",
     "text": [
      "WARNING:tensorflow:From c:\\Users\\zfkha\\miniconda3\\Lib\\site-packages\\keras\\src\\losses.py:2976: The name tf.losses.sparse_softmax_cross_entropy is deprecated. Please use tf.compat.v1.losses.sparse_softmax_cross_entropy instead.\n",
      "\n"
     ]
    }
   ],
   "source": [
    "import requests\n",
    "from bs4 import BeautifulSoup, NavigableString\n",
    "import re\n",
    "import pandas as pd\n",
    "from transformers import pipeline, AutoTokenizer, AutoModelForQuestionAnswering\n",
    "from datasets import load_dataset\n",
    "import tkinter as tk\n",
    "from tkinter import messagebox\n",
    "from tabulate import tabulate"
   ]
  },
  {
   "cell_type": "code",
   "execution_count": 2,
   "metadata": {},
   "outputs": [],
   "source": [
    "def get_paragraph_text(p):\n",
    "    paragraph_text = ''\n",
    "    for tag in p.children:\n",
    "        if isinstance(tag, NavigableString):\n",
    "            paragraph_text += tag.string\n",
    "        else:\n",
    "            paragraph_text += tag.text\n",
    "    \n",
    "    return paragraph_text"
   ]
  },
  {
   "cell_type": "code",
   "execution_count": 3,
   "metadata": {},
   "outputs": [],
   "source": [
    "def get_wiki_extract(url):\n",
    "    page = requests.get(url)    \n",
    "    soup = BeautifulSoup(page.content , 'html.parser')\n",
    "    headers = ['h1', 'h2', 'h3', 'h4', 'h5', 'h6']\n",
    "    wiki_extract = []\n",
    "    for tag in soup.find_all():\n",
    "        if tag.name in headers and tag.text != 'Contents':\n",
    "            p = ''\n",
    "            for ne in tag.next_elements:\n",
    "                if ne.name == 'p':\n",
    "                    p = p + get_paragraph_text(ne)\n",
    "                if ne.name in headers:\n",
    "                    break\n",
    "            if p != '':\n",
    "                section = [re.sub(r'\\[\\d+\\]|\\[edit\\]', '', tag.text), tag.name, re.sub(r'\\[\\d+\\]|\\[edit\\]', '', p)]\n",
    "                wiki_extract.append(section)\n",
    "    return wiki_extract"
   ]
  },
  {
   "cell_type": "code",
   "execution_count": 4,
   "metadata": {},
   "outputs": [],
   "source": [
    "def get_final_answer(question, url):\n",
    "    answers = get_answers(question, url)\n",
    "    df = pd.DataFrame(answers)\n",
    "    n_sections = len(df)\n",
    "    if n_sections <= 1:\n",
    "        df_answers = df.nlargest(n_sections, 'score')\n",
    "    else:\n",
    "        df_answers = df.nlargest(1, 'score')\n",
    "\n",
    "    for index, row in df_answers.iterrows():\n",
    "        return row['answer']"
   ]
  },
  {
   "cell_type": "code",
   "execution_count": 5,
   "metadata": {},
   "outputs": [],
   "source": [
    "def get_answers(question, url):\n",
    "    #model_name = \"deepset/roberta-base-squad2\"\n",
    "    model_name = \"PremalMatalia/roberta-base-best-squad2\"\n",
    "    #model_name = \"deepset/deberta-v3-large-squad2\"\n",
    "    #model = AutoModelForQuestionAnswering.from_pretrained(\"./models/bert/bbu_squad2\") \n",
    "    question_answerer = pipeline(\"question-answering\", model=model_name)\n",
    "    wiki_extract = get_wiki_extract(url)    \n",
    "    answers = []\n",
    "    for section in wiki_extract:\n",
    "        result = question_answerer(question=question, context=section[2])\n",
    "        answer = {'title': section[0], 'title_tag': section[1], 'paragraph': section[2], **result }\n",
    "        answers.append(answer)\n",
    "    return answers"
   ]
  },
  {
   "cell_type": "code",
   "execution_count": null,
   "metadata": {},
   "outputs": [],
   "source": []
  }
 ],
 "metadata": {
  "kernelspec": {
   "display_name": "base",
   "language": "python",
   "name": "python3"
  },
  "language_info": {
   "codemirror_mode": {
    "name": "ipython",
    "version": 3
   },
   "file_extension": ".py",
   "mimetype": "text/x-python",
   "name": "python",
   "nbconvert_exporter": "python",
   "pygments_lexer": "ipython3",
   "version": "3.11.5"
  }
 },
 "nbformat": 4,
 "nbformat_minor": 2
}
