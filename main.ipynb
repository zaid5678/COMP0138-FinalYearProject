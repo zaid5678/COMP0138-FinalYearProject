{
 "cells": [
  {
   "cell_type": "markdown",
   "metadata": {},
   "source": [
    "# Import modules"
   ]
  },
  {
   "cell_type": "code",
   "execution_count": null,
   "metadata": {},
   "outputs": [],
   "source": [
    "import import_ipynb\n",
    "from functions import *\n",
    "import tkinter as tk\n",
    "from tkinter import messagebox\n",
    "from tabulate import tabulate"
   ]
  },
  {
   "cell_type": "markdown",
   "metadata": {},
   "source": [
    "# Define and create GUI"
   ]
  },
  {
   "cell_type": "code",
   "execution_count": null,
   "metadata": {},
   "outputs": [],
   "source": [
    "class WikipediaQA:\n",
    "    def __init__(self, master):\n",
    "        self.master = master\n",
    "        self.master.title(\"Wikipedia Q&A\")\n",
    "\n",
    "        self.mode = tk.StringVar(value='light')\n",
    "        self.create_widgets()\n",
    "\n",
    "    def create_widgets(self):\n",
    "        self.url_label = tk.Label(self.master, text=\"Wikipedia URL:\")\n",
    "        self.url_label.pack()\n",
    "        self.url_entry = tk.Entry(self.master, width=50)\n",
    "        self.url_entry.pack()\n",
    "\n",
    "        self.question_label = tk.Label(self.master, text=\"Question:\")\n",
    "        self.question_label.pack()\n",
    "        self.question_entry = tk.Entry(self.master, width=50)\n",
    "        self.question_entry.pack()\n",
    "\n",
    "        self.output_label = tk.Label(self.master, text=\"Answer:\")\n",
    "        self.output_label.pack()\n",
    "        self.output_text = tk.Text(self.master, height=5, width=50, state=tk.DISABLED)\n",
    "        self.output_text.pack()\n",
    "\n",
    "        self.get_answer_button = tk.Button(self.master, text=\"Get Answer\", command=self.get_answer)\n",
    "        self.get_answer_button.pack()\n",
    "\n",
    "        self.mode_button = tk.Button(self.master, text=\"Switch to Dark Mode\", command=self.toggle_mode)\n",
    "        self.mode_button.pack()\n",
    "        \n",
    "        self.url_label.pack(padx=10, pady=10)\n",
    "        self.url_entry.pack(padx=10, pady=10)\n",
    "        self.question_label.pack(padx=10, pady=10)\n",
    "        self.question_entry.pack(padx=10, pady=10)\n",
    "        self.output_label.pack(padx=10, pady=10)\n",
    "        self.output_text.pack(padx=10, pady=10)\n",
    "        self.get_answer_button.pack(padx=10, pady=10)\n",
    "        self.mode_button.pack(padx=10, pady=10)\n",
    "\n",
    "\n",
    "    def get_answer(self):\n",
    "        url = self.url_entry.get()\n",
    "        question = self.question_entry.get()\n",
    "\n",
    "        if not url or not question:\n",
    "            messagebox.showerror(\"Error\", \"Please enter both a Wikipedia URL and a question.\")\n",
    "            return\n",
    "\n",
    "        match = re.search(r\"en\\.wikipedia\\.org\\/wiki\\/(.+)\", url)\n",
    "        if not match:\n",
    "            messagebox.showerror(\"Error\", \"Please enter a valid Wikipedia URL.\")\n",
    "            return\n",
    "\n",
    "        try:\n",
    "            answer = get_final_answer(question, url)\n",
    "            self.output_text.configure(state=tk.NORMAL)\n",
    "            self.output_text.delete(\"1.0\", tk.END)\n",
    "            self.output_text.insert(tk.END, answer)\n",
    "            self.output_text.configure(state=tk.DISABLED) \n",
    "        except:\n",
    "            messagebox.showerror(\"Error\", \"An error occurred. Please try again.\")\n",
    "\n",
    "    def toggle_mode(self):\n",
    "        if self.mode.get() == 'light':\n",
    "            self.mode.set('dark')\n",
    "            self.master.configure(background='black')\n",
    "            self.url_label.configure(background='black', foreground='white')\n",
    "            self.question_label.configure(background='black', foreground='white')\n",
    "            self.output_label.configure(background='black', foreground='white')\n",
    "            self.output_text.configure(background='black', foreground='white')\n",
    "            self.get_answer_button.configure(background='white', foreground='black')\n",
    "            self.mode_button.configure(text='Switch to Light Mode')\n",
    "        else:\n",
    "            self.mode.set('light')\n",
    "            self.master.configure(background='white')\n",
    "            self.url_label.configure(background='white', foreground='black')\n",
    "            self.question_label.configure(background='white', foreground='black')\n",
    "            self.output_label.configure(background='white', foreground='black')\n",
    "            self.output_text.configure(background='white', foreground='black')\n",
    "            self.get_answer_button.configure(background='black', foreground='white')\n",
    "            self.mode_button.configure(text='Switch to Dark Mode')"
   ]
  },
  {
   "cell_type": "markdown",
   "metadata": {},
   "source": [
    "# Run GUI"
   ]
  },
  {
   "cell_type": "code",
   "execution_count": null,
   "metadata": {},
   "outputs": [],
   "source": [
    "root = tk.Tk()\n",
    "app = WikipediaQA(root)\n",
    "root.mainloop()"
   ]
  }
 ],
 "metadata": {
  "kernelspec": {
   "display_name": "base",
   "language": "python",
   "name": "python3"
  },
  "language_info": {
   "codemirror_mode": {
    "name": "ipython",
    "version": 3
   },
   "file_extension": ".py",
   "mimetype": "text/x-python",
   "name": "python",
   "nbconvert_exporter": "python",
   "pygments_lexer": "ipython3",
   "version": "3.11.7"
  },
  "orig_nbformat": 4,
  "vscode": {
   "interpreter": {
    "hash": "a077222d77dfe082b8f1dd562ad70e458ac2ab76993a0b248ab0476e32e9e8dd"
   }
  }
 },
 "nbformat": 4,
 "nbformat_minor": 2
}
